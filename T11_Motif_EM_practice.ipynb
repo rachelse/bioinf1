{
  "cells": [
    {
      "attachments": {},
      "cell_type": "markdown",
      "metadata": {
        "id": "DeBEwjbqhpTa"
      },
      "source": [
        "# Motif Finding by Expectation-Maximization\n",
        "\n",
        "EM algorithm으로 motif를 찾아본다.\n",
        "\n",
        "생물정보학 및 실습 1, 2023년 1학기"
      ]
    },
    {
      "cell_type": "code",
      "execution_count": 1,
      "metadata": {
        "id": "m5essJZQhpTd"
      },
      "outputs": [
        {
          "data": {
            "text/plain": [
              "['CGCCCCTCTCGGGGGTGTTCAG',\n",
              " 'TGTGTAAGTGCCAAGGTGCCAG',\n",
              " 'ACCGAAAGAAGTATACAGGCGT',\n",
              " 'TTCAGGTGCACGTCGGTGAACC',\n",
              " 'CTCCACGTGCAATGTTGGCCTA']"
            ]
          },
          "execution_count": 1,
          "metadata": {},
          "output_type": "execute_result"
        }
      ],
      "source": [
        "seqs = \"\"\"\n",
        "CGCCCCTCTCGGGGGTGTTCAG\n",
        "TGTGTAAGTGCCAAGGTGCCAG\n",
        "ACCGAAAGAAGTATACAGGCGT\n",
        "TTCAGGTGCACGTCGGTGAACC\n",
        "CTCCACGTGCAATGTTGGCCTA\"\"\".split()\n",
        "seqs"
      ]
    },
    {
      "cell_type": "code",
      "execution_count": 2,
      "metadata": {
        "id": "V9tNuCNshpTe"
      },
      "outputs": [],
      "source": [
        "import numpy as np\n",
        "np.set_printoptions(edgeitems=30, linewidth=100000)"
      ]
    },
    {
      "attachments": {},
      "cell_type": "markdown",
      "metadata": {
        "id": "w4JItI85hpTe"
      },
      "source": [
        "기본 파라미터 세팅"
      ]
    },
    {
      "cell_type": "code",
      "execution_count": 3,
      "metadata": {
        "id": "TV2do9rdhpTf"
      },
      "outputs": [],
      "source": [
        "W = 8 # motif width\n",
        "ALPHABET = 'ACGT'\n",
        "N = len(ALPHABET)\n",
        "L = len(seqs[0]) # length of each sequence\n",
        "pseudocount = 1\n",
        "\n",
        "ALPHABETenum = dict(zip(ALPHABET, range(N)))"
      ]
    },
    {
      "attachments": {},
      "cell_type": "markdown",
      "metadata": {
        "id": "8k45ori8hpTf"
      },
      "source": [
        "다루기 쉽게 seqs를 숫자 배열로 변환함 (A->0, C->1, G->2, T->3)"
      ]
    },
    {
      "cell_type": "code",
      "execution_count": 4,
      "metadata": {
        "id": "g7sfMwuqhpTf"
      },
      "outputs": [
        {
          "data": {
            "text/plain": [
              "array([[1, 2, 1, 1, 1, 1, 3, 1, 3, 1, 2, 2, 2, 2, 2, 3, 2, 3, 3, 1, 0, 2],\n",
              "       [3, 2, 3, 2, 3, 0, 0, 2, 3, 2, 1, 1, 0, 0, 2, 2, 3, 2, 1, 1, 0, 2],\n",
              "       [0, 1, 1, 2, 0, 0, 0, 2, 0, 0, 2, 3, 0, 3, 0, 1, 0, 2, 2, 1, 2, 3],\n",
              "       [3, 3, 1, 0, 2, 2, 3, 2, 1, 0, 1, 2, 3, 1, 2, 2, 3, 2, 0, 0, 1, 1],\n",
              "       [1, 3, 1, 1, 0, 1, 2, 3, 2, 1, 0, 0, 3, 2, 3, 3, 2, 2, 1, 1, 3, 0]])"
            ]
          },
          "execution_count": 4,
          "metadata": {},
          "output_type": "execute_result"
        }
      ],
      "source": [
        "X = np.array([[ALPHABETenum[c] for c in s] for s in seqs])\n",
        "X"
      ]
    },
    {
      "attachments": {},
      "cell_type": "markdown",
      "metadata": {
        "id": "wjIxuYyxhpTg"
      },
      "source": [
        "미리 전체 알파벳 빈도 계산하고 백그라운드 벡터 B 계산"
      ]
    },
    {
      "cell_type": "code",
      "execution_count": 5,
      "metadata": {
        "id": "CzQa-FFShpTg"
      },
      "outputs": [
        {
          "data": {
            "text/plain": [
              "(array([23, 29, 34, 24]),\n",
              " array([0.21052632, 0.26315789, 0.30701754, 0.21929825]))"
            ]
          },
          "execution_count": 5,
          "metadata": {},
          "output_type": "execute_result"
        }
      ],
      "source": [
        "nc = np.array([(X == i).sum() for i in range(N)])\n",
        "B = (nc + pseudocount) / (nc + pseudocount).sum()\n",
        "nc, B"
      ]
    },
    {
      "attachments": {},
      "cell_type": "markdown",
      "metadata": {
        "id": "_g_mhxpihpTg"
      },
      "source": [
        "시작 profile을 맨 앞 부분 길이가 W인 문자열로 초기화함"
      ]
    },
    {
      "cell_type": "code",
      "execution_count": 7,
      "metadata": {
        "id": "dI12LG4shpTh"
      },
      "outputs": [
        {
          "data": {
            "text/plain": [
              "array([[0.2, 0. , 0. , 0.2, 0.4, 0.4, 0.4, 0. ],\n",
              "       [0.4, 0.2, 0.8, 0.4, 0.2, 0.4, 0. , 0.2],\n",
              "       [0. , 0.4, 0. , 0.4, 0.2, 0.2, 0.2, 0.6],\n",
              "       [0.4, 0.4, 0.2, 0. , 0.2, 0. , 0.4, 0.2]])"
            ]
          },
          "execution_count": 7,
          "metadata": {},
          "output_type": "execute_result"
        }
      ],
      "source": [
        "# motif 정의\n",
        "M = np.zeros([N, W])\n",
        "\n",
        "for j in range(W): # for each column of motif\n",
        "    for c in range(N): # for each character in the alphabet\n",
        "        M[c, j] = np.mean(X[:, j] == c)\n",
        "\n",
        "M"
      ]
    },
    {
      "attachments": {},
      "cell_type": "markdown",
      "metadata": {
        "id": "hdv0ve0yhpTh"
      },
      "source": [
        "### E-step"
      ]
    },
    {
      "attachments": {},
      "cell_type": "markdown",
      "metadata": {
        "id": "WyzL4S8ThpTh"
      },
      "source": [
        "Z matrix 계산\n",
        "\n",
        "$Z_{ij}^{(t)} = \\frac {\\Pr(X_i | Z_{ij}=1,M^{(t)})} {\\sum _{k=1} ^{L-W+1} { \\Pr(X_i | Z_{ik}=1,M^{(t)})}}$"
      ]
    },
    {
      "cell_type": "code",
      "execution_count": 9,
      "metadata": {
        "id": "xHi1LpbvhpTh"
      },
      "outputs": [
        {
          "name": "stdout",
          "output_type": "stream",
          "text": [
            "z[0,0] = 0.4 * 0.4 * 0.8 * 0.4 * 0.2 * 0.4 * 0.4 * 0.2 * 0.219298 * 0.263158 * 0.307018 * 0.307018 * 0.307018 * 0.307018 * 0.307018 * 0.219298 * 0.307018 * 0.219298 * 0.219298 * 0.263158 * 0.210526 * 0.307018 = 2.84101e-12\n",
            "z[0,1] = 0.263158 * 0 * 0.2 * 0.8 * 0.4 * 0.2 * 0 * 0 * 0.2 * 0.263158 * 0.307018 * 0.307018 * 0.307018 * 0.307018 * 0.307018 * 0.219298 * 0.307018 * 0.219298 * 0.219298 * 0.263158 * 0.210526 * 0.307018 = 0\n",
            "z[0,2] = 0.263158 * 0.307018 * 0.4 * 0.2 * 0.8 * 0.4 * 0.2 * 0.4 * 0.4 * 0.2 * 0.307018 * 0.307018 * 0.307018 * 0.307018 * 0.307018 * 0.219298 * 0.307018 * 0.219298 * 0.219298 * 0.263158 * 0.210526 * 0.307018 = 1.9887e-12\n",
            "z[0,3] = 0.263158 * 0.307018 * 0.263158 * 0.4 * 0.2 * 0.8 * 0 * 0.2 * 0 * 0 * 0.6 * 0.307018 * 0.307018 * 0.307018 * 0.307018 * 0.219298 * 0.307018 * 0.219298 * 0.219298 * 0.263158 * 0.210526 * 0.307018 = 0\n",
            "z[0,4] = 0.263158 * 0.307018 * 0.263158 * 0.263158 * 0.4 * 0.2 * 0.2 * 0.4 * 0.2 * 0.4 * 0.2 * 0.6 * 0.307018 * 0.307018 * 0.307018 * 0.219298 * 0.307018 * 0.219298 * 0.219298 * 0.263158 * 0.210526 * 0.307018 = 5.47908e-13\n",
            "z[1,0] = 0.4 * 0.4 * 0.2 * 0.4 * 0.2 * 0.4 * 0.4 * 0.6 * 0.219298 * 0.307018 * 0.263158 * 0.263158 * 0.210526 * 0.210526 * 0.307018 * 0.307018 * 0.219298 * 0.307018 * 0.263158 * 0.263158 * 0.210526 * 0.307018 = 1.44272e-12\n",
            "z[1,1] = 0.219298 * 0 * 0.4 * 0 * 0 * 0.4 * 0.4 * 0.2 * 0.2 * 0.307018 * 0.263158 * 0.263158 * 0.210526 * 0.210526 * 0.307018 * 0.307018 * 0.219298 * 0.307018 * 0.263158 * 0.263158 * 0.210526 * 0.307018 = 0\n",
            "z[1,2] = 0.219298 * 0.307018 * 0.4 * 0.4 * 0.2 * 0.2 * 0.4 * 0.2 * 0.4 * 0.6 * 0.263158 * 0.263158 * 0.210526 * 0.210526 * 0.307018 * 0.307018 * 0.219298 * 0.307018 * 0.263158 * 0.263158 * 0.210526 * 0.307018 = 7.2136e-13\n",
            "z[1,3] = 0.219298 * 0.307018 * 0.219298 * 0 * 0.4 * 0 * 0.2 * 0.2 * 0 * 0.2 * 0.2 * 0.263158 * 0.210526 * 0.210526 * 0.307018 * 0.307018 * 0.219298 * 0.307018 * 0.263158 * 0.263158 * 0.210526 * 0.307018 = 0\n",
            "z[1,4] = 0.219298 * 0.307018 * 0.219298 * 0.307018 * 0.4 * 0 * 0 * 0.4 * 0.2 * 0.2 * 0 * 0.2 * 0.210526 * 0.210526 * 0.307018 * 0.307018 * 0.219298 * 0.307018 * 0.263158 * 0.263158 * 0.210526 * 0.307018 = 0\n"
          ]
        }
      ],
      "source": [
        "Z = np.zeros([X.shape[0], L-W+1]) # 폭의 L-W+1\n",
        "\n",
        "# 먼저 분자의 Pr(Xi...)를 계산한다.\n",
        "for i in range(X.shape[0]):\n",
        "    for j in range(L-W+1):\n",
        "        # motif 이전 background\n",
        "        pr_beforemotif = B[X[i, :j]] #j 전까지 계산\n",
        "\n",
        "        # motif 내부\n",
        "        subseq = X[i, j:j+W] #motif 와 매치가 된다고 가정하는분부분\n",
        "        pr_motif = np.choose(subseq, M)\n",
        "\n",
        "        # motif 이후 background #motif 종료하고 sequence의 끝까지 부분\n",
        "        pr_aftermotif = B[X[i, j+W:]]\n",
        "\n",
        "        # 모두 곱해서 분모를 계산한다.\n",
        "        probs = np.hstack([pr_beforemotif, pr_motif, pr_aftermotif])\n",
        "        Z[i, j] = np.prod(probs)\n",
        "\n",
        "        # 예시 좀 보여줌\n",
        "        if i < 2 and j < 5:\n",
        "            print(f'z[{i},{j}] =',\n",
        "                ' * '.join(format(v, 'g') for v in probs),\n",
        "                '=', format(Z[i, j], 'g'))"
      ]
    },
    {
      "cell_type": "code",
      "execution_count": 12,
      "metadata": {
        "id": "Lg85GezPjm5m"
      },
      "outputs": [
        {
          "name": "stdout",
          "output_type": "stream",
          "text": [
            "== 분모로 나누기 전 Z ==============================\n",
            "[[2.84100575e-12 0.00000000e+00 1.98870402e-12 0.00000000e+00 5.47908252e-13 0.00000000e+00 2.01272419e-13 1.15012811e-12 0.00000000e+00 0.00000000e+00 0.00000000e+00 0.00000000e+00 0.00000000e+00 0.00000000e+00 0.00000000e+00]\n",
            " [1.44272070e-12 0.00000000e+00 7.21360350e-13 0.00000000e+00 0.00000000e+00 0.00000000e+00 0.00000000e+00 0.00000000e+00 4.00755750e-12 0.00000000e+00 0.00000000e+00 0.00000000e+00 0.00000000e+00 0.00000000e+00 0.00000000e+00]\n",
            " [1.31905892e-12 0.00000000e+00 0.00000000e+00 0.00000000e+00 0.00000000e+00 0.00000000e+00 0.00000000e+00 0.00000000e+00 0.00000000e+00 0.00000000e+00 0.00000000e+00 0.00000000e+00 0.00000000e+00 0.00000000e+00 0.00000000e+00]\n",
            " [1.23661774e-12 0.00000000e+00 0.00000000e+00 0.00000000e+00 0.00000000e+00 0.00000000e+00 4.00755750e-13 0.00000000e+00 0.00000000e+00 0.00000000e+00 3.53319355e-13 0.00000000e+00 0.00000000e+00 0.00000000e+00 0.00000000e+00]\n",
            " [1.14501643e-12 3.68040995e-13 0.00000000e+00 0.00000000e+00 0.00000000e+00 3.06700829e-13 0.00000000e+00 0.00000000e+00 0.00000000e+00 0.00000000e+00 0.00000000e+00 0.00000000e+00 0.00000000e+00 0.00000000e+00 0.00000000e+00]]\n",
            "== 분모로 나눈 후 Z ==============================\n",
            "[[0.4222021  0.         0.29554147 0.         0.08142469 0.         0.02991111 0.17092063 0.         0.         0.         0.         0.         0.         0.        ]\n",
            " [0.23376623 0.         0.11688312 0.         0.         0.         0.         0.         0.64935065 0.         0.         0.         0.         0.         0.        ]\n",
            " [1.         0.         0.         0.         0.         0.         0.         0.         0.         0.         0.         0.         0.         0.         0.        ]\n",
            " [0.62119967 0.         0.         0.         0.         0.         0.20131471 0.         0.         0.         0.17748562 0.         0.         0.         0.        ]\n",
            " [0.62921348 0.20224719 0.         0.         0.         0.16853933 0.         0.         0.         0.         0.         0.         0.         0.         0.        ]]\n"
          ]
        }
      ],
      "source": [
        "print('== 분모로 나누기 전 Z', '=' * 30)\n",
        "print(Z)\n",
        "\n",
        "# 각 sequence의 likelihood 총합을 계산해서 분모로 써서 나눈다.\n",
        "Z = Z / Z.sum(axis=1)[:, np.newaxis]\n",
        "\n",
        "print('== 분모로 나눈 후 Z', '=' * 30)\n",
        "print(Z)"
      ]
    },
    {
      "attachments": {},
      "cell_type": "markdown",
      "metadata": {
        "id": "1CrUipvBhpTh"
      },
      "source": [
        "### M-step\n",
        "\n",
        "`numpy`는 슬라이드 자료와 다르게 세로축을 먼저 쓰기 때문에 파라미터 순서도 k,c 대신 c,k로 바꿈.\n",
        "\n",
        "$M^{(t+1)}(c,k) = \\frac {n_{c,k} + d} {\\sum _c {(n_{c,k} + d)}}$\n",
        "\n",
        "$n_{c,k} = \\sum _i \\sum _{j|X_{i,j+k-1}=c} {Z_{ij}}$"
      ]
    },
    {
      "cell_type": "code",
      "execution_count": 11,
      "metadata": {
        "id": "-aJ9_lWThpTi"
      },
      "outputs": [
        {
          "data": {
            "text/plain": [
              "array([[0.25, 0.25, 0.25, 0.25, 0.25, 0.25, 0.25, 0.25],\n",
              "       [0.25, 0.25, 0.25, 0.25, 0.25, 0.25, 0.25, 0.25],\n",
              "       [0.25, 0.25, 0.25, 0.25, 0.25, 0.25, 0.25, 0.25],\n",
              "       [0.25, 0.25, 0.25, 0.25, 0.25, 0.25, 0.25, 0.25]])"
            ]
          },
          "execution_count": 11,
          "metadata": {},
          "output_type": "execute_result"
        }
      ],
      "source": [
        "n = np.zeros([N, W])\n",
        "\n",
        "# 행렬 n 먼저 계산\n",
        "for c in range(N):\n",
        "    for k in range(W):\n",
        "        # sum 순서는 sigma i 방향을 먼저 합하는 게 간단하므로 i먼저 j나중\n",
        "        # X[:, <<7>>] == c는 boolean 벡터로, X_i,j+k-1=c 조건을 담당한다.\n",
        "        n[c, k] = np.sum([(Z[:, j] * (X[:, j+k] == c)).sum()\n",
        "                          for j in range(L-W+1)])\n",
        "\n",
        "# M 계산\n",
        "M = n + pseudocount\n",
        "M = M / M.sum(axis=0)\n",
        "M"
      ]
    },
    {
      "attachments": {},
      "cell_type": "markdown",
      "metadata": {
        "id": "WDKf0s2phpTi"
      },
      "source": [
        "백그라운드 벡터 B 업데이트하기. 앞의 $n_{c,k}$와 마찬가지로 슬라이드와는 축을 반대로 써야 행렬을 표시했을 때 보기 편하다.\n",
        "\n",
        "$B^{(t+1)}(c) = \\frac {n_{c,0}+d} {\\sum_c {(n_{c,0}+d)}}$\n",
        "\n",
        "$n_{c,0}=n_c-\\sum_{j=1}^W {n_{c,j}}$"
      ]
    },
    {
      "cell_type": "code",
      "execution_count": 24,
      "metadata": {
        "id": "TxxoXd-yhpTi"
      },
      "outputs": [
        {
          "data": {
            "text/plain": [
              "array([0.21052632, 0.26315789, 0.30701754, 0.21929825])"
            ]
          },
          "execution_count": 24,
          "metadata": {},
          "output_type": "execute_result"
        }
      ],
      "source": [
        "# nc는 시작할 때 미리 계산해 두었다.\n",
        "B = nc - n.sum(axis=1) + pseudocount\n",
        "B = B / B.sum(axis=0)\n",
        "B"
      ]
    },
    {
      "attachments": {},
      "cell_type": "markdown",
      "metadata": {
        "id": "D18RzlYYhpTj"
      },
      "source": [
        "### 함수로 모아 두기\n",
        "\n",
        "여러 번 돌리기 쉽게 위의 코드를 모아서 함수로 만든다."
      ]
    },
    {
      "cell_type": "code",
      "execution_count": 13,
      "metadata": {
        "id": "bWrSUUXnhpTj"
      },
      "outputs": [],
      "source": [
        "def Estep(X, B, L, W):\n",
        "    Z = np.zeros([X.shape[0], L-W+1])\n",
        "\n",
        "    for i in range(X.shape[0]):\n",
        "        for j in range(L-W+1):\n",
        "            pr_beforemotif = B[X[i, :j]]\n",
        "\n",
        "            subseq = X[i, j:j+W]\n",
        "            pr_motif = np.choose(subseq, M)\n",
        "\n",
        "            pr_aftermotif = B[X[i, j+W:]]\n",
        "\n",
        "            probs = np.hstack([pr_beforemotif, pr_motif, pr_aftermotif])\n",
        "            Z[i, j] = np.prod(probs)\n",
        "\n",
        "    return Z / Z.sum(axis=1)[:, np.newaxis]"
      ]
    },
    {
      "cell_type": "code",
      "execution_count": 14,
      "metadata": {
        "id": "yuIkz7pyhpTj"
      },
      "outputs": [],
      "source": [
        "# 서열 맨 앞부분을 모아서 만든 초기 M을 계산한다\n",
        "def initialize_M(X, nc, N, W, pseudocount):\n",
        "    M = np.zeros([N, W])\n",
        "\n",
        "    for j in range(W): # for each column of motif\n",
        "        for c in range(N): # for each character in the alphabet\n",
        "            M[c, j] = np.mean(X[:, j] == c)\n",
        "\n",
        "    B = (nc + pseudocount) / (nc + pseudocount).sum()\n",
        "\n",
        "    return M, B"
      ]
    },
    {
      "cell_type": "code",
      "execution_count": 15,
      "metadata": {
        "id": "gGROOt7phpTj"
      },
      "outputs": [],
      "source": [
        "def Mstep(X, Z, nc, N, W, pseudocount):\n",
        "    n = np.zeros([N, W])\n",
        "\n",
        "    for c in range(N):\n",
        "        for k in range(W):\n",
        "            n[c, k] = np.sum([(Z[:, j] * (X[:, j+k] == c)).sum()\n",
        "                             for j in range(L-W+1)])\n",
        "\n",
        "    M = n + pseudocount\n",
        "    M = M / M.sum(axis=0)\n",
        "\n",
        "    B = nc - n.sum(axis=1) + pseudocount\n",
        "    B = B / B.sum(axis=0)\n",
        "\n",
        "    return M, B"
      ]
    },
    {
      "attachments": {},
      "cell_type": "markdown",
      "metadata": {
        "id": "zNbNK8x5hpTj"
      },
      "source": [
        "모아서 돌려보기!"
      ]
    },
    {
      "cell_type": "code",
      "execution_count": 16,
      "metadata": {
        "id": "57GXdycghpTj"
      },
      "outputs": [
        {
          "name": "stdout",
          "output_type": "stream",
          "text": [
            "== (initial) M ==============================\n",
            "[[0.2 0.  0.  0.2 0.4 0.4 0.4 0. ]\n",
            " [0.4 0.2 0.8 0.4 0.2 0.4 0.  0.2]\n",
            " [0.  0.4 0.  0.4 0.2 0.2 0.2 0.6]\n",
            " [0.4 0.4 0.2 0.  0.2 0.  0.4 0.2]]\n",
            "== (initial) B ==============================\n",
            "[0.21052632 0.26315789 0.30701754 0.21929825]\n",
            "== (iteration 1) M ==============================\n",
            "[[0.22222222 0.11111111 0.11111111 0.23796052 0.37727192 0.33907291 0.26692284 0.11111111]\n",
            " [0.32725859 0.28990272 0.57688777 0.36501435 0.22158926 0.26982019 0.11111111 0.2132287 ]\n",
            " [0.11111111 0.32994908 0.11111111 0.28591402 0.22216856 0.27999578 0.28453562 0.47590988]\n",
            " [0.33940808 0.26903709 0.20089001 0.11111111 0.17897027 0.11111111 0.33743043 0.19975031]]\n",
            "== (iteration 1) B ==============================\n",
            "[0.21633711 0.22468494 0.32559113 0.23338682]\n"
          ]
        }
      ],
      "source": [
        "M, B = initialize_M(X, nc, N, W, pseudocount)\n",
        "print('== (initial) M', '=' * 30)\n",
        "print(M)\n",
        "print('== (initial) B', '=' * 30)\n",
        "print(B)\n",
        "\n",
        "Z = Estep(X, B, L, W)\n",
        "M, B = Mstep(X, Z, nc, N, W, pseudocount)\n",
        "print('== (iteration 1) M', '=' * 30)\n",
        "print(M)\n",
        "print('== (iteration 1) B', '=' * 30)\n",
        "print(B)"
      ]
    },
    {
      "attachments": {},
      "cell_type": "markdown",
      "metadata": {
        "id": "earRs2mYhpTj"
      },
      "source": [
        "3번 돌려 보기"
      ]
    },
    {
      "cell_type": "code",
      "execution_count": 17,
      "metadata": {
        "id": "qtUI57IqhpTk"
      },
      "outputs": [
        {
          "name": "stdout",
          "output_type": "stream",
          "text": [
            "== (iteration 3) M ==============================\n",
            "[[0.18634348 0.16151798 0.15604622 0.32259716 0.33310843 0.27520033 0.1916729  0.14200058]\n",
            " [0.29672636 0.29843151 0.49845559 0.32271989 0.27562042 0.241829   0.13888125 0.23649783]\n",
            " [0.14897844 0.32498821 0.14900403 0.21700835 0.2086034  0.3396363  0.32400109 0.43846767]\n",
            " [0.36795172 0.2150623  0.19649417 0.1376746  0.18266775 0.14333438 0.34544476 0.18303392]]\n",
            "== (iteration 3) B ==============================\n",
            "[0.21734617 0.2326695  0.31951098 0.23047335]\n"
          ]
        }
      ],
      "source": [
        "M, B = initialize_M(X, nc, N, W, pseudocount)\n",
        "Z = Estep(X, B, L, W)\n",
        "M, B = Mstep(X, Z, nc, N, W, pseudocount)\n",
        "Z = Estep(X, B, L, W)\n",
        "M, B = Mstep(X, Z, nc, N, W, pseudocount)\n",
        "Z = Estep(X, B, L, W)\n",
        "M, B = Mstep(X, Z, nc, N, W, pseudocount)\n",
        "\n",
        "print('== (iteration 3) M', '=' * 30)\n",
        "print(M)\n",
        "print('== (iteration 3) B', '=' * 30)\n",
        "print(B)"
      ]
    },
    {
      "attachments": {},
      "cell_type": "markdown",
      "metadata": {
        "id": "XLHS7ogmhpTk"
      },
      "source": [
        "delta M이 0.01% 이하가 될 때까지 E-M 반복하기\n",
        "\n",
        "> 종료조건: 변화 폭이 적어지면 종료"
      ]
    },
    {
      "cell_type": "code",
      "execution_count": 21,
      "metadata": {
        "id": "8APSP6BWhpTk"
      },
      "outputs": [
        {
          "name": "stdout",
          "output_type": "stream",
          "text": [
            "== (iteration 19) M ==============================\n",
            "[[0.1143238  0.22200403 0.12633712 0.54199454 0.21546759 0.13138975 0.11396067 0.11433231]\n",
            " [0.15282959 0.31616389 0.43851547 0.20013071 0.24550357 0.11365736 0.20826352 0.12252571]\n",
            " [0.11693418 0.23270185 0.12532932 0.1347949  0.42318754 0.63773664 0.23597487 0.64113687]\n",
            " [0.61591243 0.22913022 0.30981809 0.12307985 0.1158413  0.11721625 0.44180094 0.1220051 ]]\n",
            "== (iteration 19) B ==============================\n",
            "[0.2402934  0.29488772 0.27121398 0.1936049 ]\n"
          ]
        }
      ],
      "source": [
        "deltaM_threshold = 1e-4\n",
        "datalog = {'deltaM': [], 'B': [], 'Z': [], 'M': []}\n",
        "\n",
        "M, B = initialize_M(X, nc, N, W, pseudocount)\n",
        "for i in range(10000): # 최대 iteration 수를 10000으로 제한한다.\n",
        "    prev_M = M\n",
        "    Z = Estep(X, B, L, W)\n",
        "    M, B = Mstep(X, Z, nc, N, W, pseudocount)\n",
        "\n",
        "    # M 변화를 계산하고 주요 값들을 저장한다.\n",
        "    delta = (np.abs(M - prev_M) / M).mean()\n",
        "    datalog['deltaM'].append(delta)\n",
        "    datalog['B'].append(B)\n",
        "    datalog['Z'].append(Z)\n",
        "    datalog['M'].append(M)\n",
        "    if delta < deltaM_threshold:\n",
        "        break\n",
        "\n",
        "print(f'== (iteration {i+1}) M', '=' * 30)\n",
        "print(M)\n",
        "print(f'== (iteration {i+1}) B', '=' * 30)\n",
        "print(B)"
      ]
    },
    {
      "attachments": {},
      "cell_type": "markdown",
      "metadata": {
        "id": "loU6a7m0hpTk"
      },
      "source": [
        "$\\Delta M$ 과 B 변화를 찍어본다."
      ]
    },
    {
      "cell_type": "code",
      "execution_count": 19,
      "metadata": {
        "id": "JKfseb7ohpTk"
      },
      "outputs": [],
      "source": [
        "from matplotlib import pyplot as plt"
      ]
    },
    {
      "cell_type": "code",
      "execution_count": 22,
      "metadata": {
        "id": "i3cEqkdMhpTk"
      },
      "outputs": [
        {
          "data": {
            "text/plain": [
              "Text(0.5, 0, 'Iteration')"
            ]
          },
          "execution_count": 22,
          "metadata": {},
          "output_type": "execute_result"
        },
        {
          "data": {
            "image/png": "[encoded data removed]",
            "text/plain": [
              "<Figure size 800x400 with 2 Axes>"
            ]
          },
          "metadata": {},
          "output_type": "display_data"
        }
      ],
      "source": [
        "fig, axes = plt.subplots(2, 1, figsize=(8, 4))\n",
        "axes[0].plot(datalog['deltaM'], marker='o', markersize=4)\n",
        "axes[0].axhline(deltaM_threshold, color='r', linestyle='--')\n",
        "axes[0].set_ylabel('$\\Delta M$')\n",
        "\n",
        "axes[1].plot(datalog['B'], marker='o', markersize=4, label=['A', 'C', 'G', 'T'])\n",
        "axes[1].legend()\n",
        "axes[1].set_ylabel('Freq. in B')\n",
        "axes[1].set_xlabel('Iteration')"
      ]
    },
    {
      "attachments": {},
      "cell_type": "markdown",
      "metadata": {
        "id": "stmRLTDahpTk"
      },
      "source": [
        "Z, M의 변화도 한 번 찍어본다. Z에서는 맨 앞이 선택되다가 점차 뒤로 이동해서 motif가 제대로 선택되는 것이 보인다."
      ]
    },
    {
      "cell_type": "code",
      "execution_count": 25,
      "metadata": {
        "id": "b1pA2zz9hpTk"
      },
      "outputs": [
        {
          "data": {
            "image/png": "[encoded data removed]",
            "text/plain": [
              "<Figure size 600x600 with 12 Axes>"
            ]
          },
          "metadata": {},
          "output_type": "display_data"
        }
      ],
      "source": [
        "fig, axes = plt.subplots(6, 2, figsize=(6, 6))\n",
        "\n",
        "# 왼쪽에는 Z를 그림\n",
        "for ax, i in zip(axes[:, 0], range(0, len(datalog['Z']), 2)):\n",
        "    ax.pcolor(datalog['Z'][i], vmin=0, vmax=.5)\n",
        "    plt.setp(ax.get_yticklabels() + ax.get_xticklabels(), visible=False)\n",
        "    ax.set_ylabel(f'Iter. {i+1}')\n",
        "    if i == 0:\n",
        "        ax.set_title('Z')\n",
        "\n",
        "# 오른쪽에 M 그림\n",
        "for ax, i in zip(axes[:, 1], range(0, len(datalog['M']), 2)):\n",
        "    ax.pcolor(datalog['M'][i], vmin=0.1, vmax=.4)\n",
        "    plt.setp(ax.get_yticklabels() + ax.get_xticklabels(), visible=False)\n",
        "    if i == 0:\n",
        "        ax.set_title('M')\n",
        "\n",
        "plt.tight_layout()"
      ]
    },
    {
      "attachments": {},
      "cell_type": "markdown",
      "metadata": {
        "id": "U3IjUsMdhpTk"
      },
      "source": [
        "Consensus 모티프 찍어보기"
      ]
    },
    {
      "cell_type": "code",
      "execution_count": 34,
      "metadata": {
        "id": "6wMyvKrJhpTk"
      },
      "outputs": [
        {
          "name": "stdout",
          "output_type": "stream",
          "text": [
            "TCCAGGTG \t(consensus)\n",
            "--------------------\n",
            "TCTCGGGG\n",
            "TGTAAGTG\n",
            "TACAGGCG\n",
            "TTCAGGTG\n",
            "TCCACGTG\n"
          ]
        }
      ],
      "source": [
        "# M 에서 최대 확률인 염기들을 모은 consensus\n",
        "consensus = ''.join(np.choose(M.argmax(axis=0), 'ACGT'))\n",
        "\n",
        "# Z 에서 가장 확률이 높은 부분들을 고른 instances\n",
        "instances = [seqs[i][j:j+W] for i, j in enumerate(Z.argmax(axis=1))]\n",
        "\n",
        "print(consensus, '\\t(consensus)')\n",
        "print('--' * 10)\n",
        "print(*instances, sep='\\n')"
      ]
    }
  ],
  "metadata": {
    "colab": {
      "provenance": []
    },
    "interpreter": {
      "hash": "aa89d62b8dcb58c24721fadbe84c295a8a712e290dc079849fd5d0ad10101e3d"
    },
    "kernelspec": {
      "display_name": "Python 3.9.2 ('lab2')",
      "language": "python",
      "name": "python3"
    },
    "language_info": {
      "codemirror_mode": {
        "name": "ipython",
        "version": 3
      },
      "file_extension": ".py",
      "mimetype": "text/x-python",
      "name": "python",
      "nbconvert_exporter": "python",
      "pygments_lexer": "ipython3",
      "version": "3.11.3"
    },
    "orig_nbformat": 4
  },
  "nbformat": 4,
  "nbformat_minor": 0
}
